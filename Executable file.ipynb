{
 "cells": [
  {
   "cell_type": "code",
   "execution_count": 1,
   "id": "e460b516",
   "metadata": {},
   "outputs": [
    {
     "name": "stdout",
     "output_type": "stream",
     "text": [
      " * Serving Flask app '__main__'\n",
      " * Debug mode: on\n"
     ]
    },
    {
     "name": "stderr",
     "output_type": "stream",
     "text": [
      "WARNING: This is a development server. Do not use it in a production deployment. Use a production WSGI server instead.\n",
      " * Running on http://127.0.0.1:5000\n",
      "Press CTRL+C to quit\n",
      " * Restarting with watchdog (windowsapi)\n"
     ]
    },
    {
     "ename": "SystemExit",
     "evalue": "1",
     "output_type": "error",
     "traceback": [
      "An exception has occurred, use %tb to see the full traceback.\n",
      "\u001b[1;31mSystemExit\u001b[0m\u001b[1;31m:\u001b[0m 1\n"
     ]
    },
    {
     "name": "stderr",
     "output_type": "stream",
     "text": [
      "D:\\anaconda\\Lib\\site-packages\\IPython\\core\\interactiveshell.py:3534: UserWarning: To exit: use 'exit', 'quit', or Ctrl-D.\n",
      "  warn(\"To exit: use 'exit', 'quit', or Ctrl-D.\", stacklevel=1)\n"
     ]
    }
   ],
   "source": [
    "from flask import Flask, render_template, request, jsonify\n",
    "from PIL import Image\n",
    "import numpy as np\n",
    "import joblib\n",
    "\n",
    "# Load the trained model\n",
    "model = joblib.load('D:/anemia_model.pkl')\n",
    "\n",
    "app = Flask(__name__)\n",
    "\n",
    "@app.route('/')\n",
    "def index():\n",
    "    return render_template('index.html')\n",
    "\n",
    "@app.route('/predict', methods=['POST'])\n",
    "def predict():\n",
    "    try:\n",
    "        # Get the image file from the request\n",
    "        image_file = request.files['image']\n",
    "        if image_file:\n",
    "            # Open and preprocess the image\n",
    "            image = Image.open(image_file)\n",
    "            image_resized = image.resize((64, 64))\n",
    "            image_array = np.array(image_resized)\n",
    "            image_array = image_array.astype('float32') / 255.0\n",
    "            image_flat = image_array.flatten()\n",
    "            image_reshaped = image_flat.reshape(1, -1)\n",
    "            # Use the model to make predictions\n",
    "            predicted_class = model.predict(image_reshaped)\n",
    "            probability = model.predict_proba(image_reshaped)[0][predicted_class]\n",
    "            likelihood_percentage = round(float(probability) * 100, 2)\n",
    "            if likelihood_percentage > 85:\n",
    "                result_message = \"There is a {:.2f}% probability that you are diagnoised with anemia.Please contact a healthcare professional for further treatment and evaluation.\".format(likelihood_percentage)\n",
    "            else:\n",
    "                result_message = \"No sign of anemia detected.\"\n",
    "            return result_message\n",
    "        else:\n",
    "            error_message = \"Error: No image file found in the request.\"\n",
    "            return error_message, 400  # Return error with status code 400\n",
    "    except Exception as e:\n",
    "        error_message = \"Error: {}\".format(str(e))\n",
    "        return error_message, 500  # Return error with status code 500\n",
    "\n",
    "if __name__ == '__main__':\n",
    "    app.run(debug=True)\n"
   ]
  },
  {
   "cell_type": "code",
   "execution_count": null,
   "id": "636e4e4f",
   "metadata": {},
   "outputs": [
    {
     "name": "stdout",
     "output_type": "stream",
     "text": [
      " * Serving Flask app 'app'\n",
      " * Debug mode: on\n"
     ]
    },
    {
     "name": "stderr",
     "output_type": "stream",
     "text": [
      "WARNING: This is a development server. Do not use it in a production deployment. Use a production WSGI server instead.\n",
      " * Running on http://127.0.0.1:5000\n",
      "Press CTRL+C to quit\n",
      " * Restarting with watchdog (windowsapi)\n"
     ]
    }
   ],
   "source": [
    "%run app.py"
   ]
  },
  {
   "cell_type": "code",
   "execution_count": null,
   "id": "5403fa1f",
   "metadata": {},
   "outputs": [],
   "source": []
  }
 ],
 "metadata": {
  "kernelspec": {
   "display_name": "Python 3 (ipykernel)",
   "language": "python",
   "name": "python3"
  },
  "language_info": {
   "codemirror_mode": {
    "name": "ipython",
    "version": 3
   },
   "file_extension": ".py",
   "mimetype": "text/x-python",
   "name": "python",
   "nbconvert_exporter": "python",
   "pygments_lexer": "ipython3",
   "version": "3.11.5"
  }
 },
 "nbformat": 4,
 "nbformat_minor": 5
}
